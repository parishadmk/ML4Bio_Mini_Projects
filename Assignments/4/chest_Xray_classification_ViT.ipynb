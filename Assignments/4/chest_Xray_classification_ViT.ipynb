{
  "cells": [
    {
      "cell_type": "code",
      "execution_count": 2,
      "metadata": {
        "id": "xsDUj7qJq6sg"
      },
      "outputs": [],
      "source": [
        "from __future__ import print_function, division\n",
        "import torch\n",
        "import torch.nn as nn\n",
        "import torch.optim as optim\n",
        "import torchvision as tv\n",
        "from torchvision import datasets, models, transforms\n",
        "import numpy as np\n",
        "import matplotlib.pyplot as plt\n",
        "import pandas as pd\n",
        "import os\n",
        "\n",
        "from IPython.display import HTML, display\n",
        "\n",
        "def progress(value, max=100):\n",
        "    return HTML(\"\"\"\n",
        "        <progress\n",
        "            value='{value}'\n",
        "            max='{max}',\n",
        "            style='width: 100%'\n",
        "        >\n",
        "            {value}\n",
        "        </progress>\n",
        "    \"\"\".format(value=value, max=max))\n",
        "\n",
        "plt.ion() \n",
        "import timm \n",
        "\n",
        "device = torch.device(\"cuda:0\" if torch.cuda.is_available() else \"cpu\")"
      ]
    },
    {
      "cell_type": "code",
      "execution_count": 4,
      "metadata": {
        "colab": {
          "base_uri": "https://localhost:8080/"
        },
        "id": "Oee42SO5rPzZ",
        "outputId": "b2cf0afa-7ca9-4fcf-85a4-6655f5d54a71"
      },
      "outputs": [
        {
          "data": {
            "text/plain": [
              "['vit_base_patch16_224',\n",
              " 'vit_base_patch16_224_in21k',\n",
              " 'vit_base_patch16_384',\n",
              " 'vit_base_patch32_224_in21k',\n",
              " 'vit_base_patch32_384',\n",
              " 'vit_base_resnet50_224_in21k',\n",
              " 'vit_base_resnet50_384',\n",
              " 'vit_deit_base_distilled_patch16_224',\n",
              " 'vit_deit_base_distilled_patch16_384',\n",
              " 'vit_deit_base_patch16_224',\n",
              " 'vit_deit_base_patch16_384',\n",
              " 'vit_deit_small_distilled_patch16_224',\n",
              " 'vit_deit_small_patch16_224',\n",
              " 'vit_deit_tiny_distilled_patch16_224',\n",
              " 'vit_deit_tiny_patch16_224',\n",
              " 'vit_large_patch16_224',\n",
              " 'vit_large_patch16_224_in21k',\n",
              " 'vit_large_patch16_384',\n",
              " 'vit_large_patch32_224_in21k',\n",
              " 'vit_large_patch32_384',\n",
              " 'vit_small_patch16_224']"
            ]
          },
          "execution_count": 4,
          "metadata": {
            "tags": []
          },
          "output_type": "execute_result"
        }
      ],
      "source": [
        "all_vit_models = timm.list_models('*vit*', pretrained=True)\n",
        "all_vit_models"
      ]
    },
    {
      "cell_type": "code",
      "execution_count": null,
      "metadata": {
        "id": "MBnYejlkoh-p"
      },
      "outputs": [],
      "source": [
        "from google.colab import drive\n",
        "drive.mount('/content/gdrive')"
      ]
    },
    {
      "cell_type": "code",
      "execution_count": null,
      "metadata": {
        "id": "yAbiMUIkn5Gb"
      },
      "outputs": [],
      "source": [
        "os.environ['KAGGLE_CONFIG_DIR'] = \"/content/gdrive/MyDrive/Kaggle\"\n",
        "!mkdir /content/gdrive/MyDrive/Kaggle/CoronaHack\n",
        "%cd /content/gdrive/MyDrive/Kaggle/CoronaHack\n",
        "\n",
        "!kaggle datasets download -d praveengovi/coronahack-chest-xraydataset\n",
        "!unzip \\*.zip  && rm *.zip"
      ]
    },
    {
      "cell_type": "markdown",
      "metadata": {
        "id": "oU2ynds3oEJX"
      },
      "source": [
        "## Loading Labels for the Dataset"
      ]
    },
    {
      "cell_type": "code",
      "execution_count": null,
      "metadata": {
        "id": "j4ZByNhJoGWo"
      },
      "outputs": [],
      "source": [
        "metadata_path = \"/content/gdrive/MyDrive/Kaggle/CoronaHack/Chest_xray_Corona_Metadata.csv\"\n",
        "metadata = pd.read_csv(metadata_path, index_col=0)\n",
        "\n",
        "normal_meta = metadata[metadata[\"Label\"] == \"Normal\"]\n",
        "virus_meta = metadata[metadata[\"Label_1_Virus_category\"] == \"Virus\"]"
      ]
    },
    {
      "cell_type": "code",
      "execution_count": null,
      "metadata": {
        "id": "__HdNuivoNVS"
      },
      "outputs": [],
      "source": [
        "data_dir = \"/content/gdrive/MyDrive/Kaggle/CoronaHack/data1\"\n",
        "!mkdir $data_dir\n",
        "normal_dir = f\"{data_dir}/normal\"\n",
        "virus_dir = f\"{data_dir}/virus\"\n",
        "dir_dict = {\n",
        "    normal_dir: normal_meta, \n",
        "    virus_dir: virus_meta,\n",
        "}\n",
        "for dir in dir_dict.keys():\n",
        "  if not os.path.exists(dir):\n",
        "    os.mkdir(dir)\n",
        "old_data_dir = \"/content/gdrive/MyDrive/Kaggle/CoronaHack/Coronahack-Chest-XRay-Dataset/Coronahack-Chest-XRay-Dataset\"\n",
        "\n",
        "for dir, meta in dir_dict.items():\n",
        "  for im in meta[\"X_ray_image_name\"]:\n",
        "    if os.path.exists(f\"{old_data_dir}/train/{im}\"):\n",
        "      os.rename(f\"{old_data_dir}/train/{im}\", f\"{dir}/{im}\")\n",
        "    elif os.path.exists(f\"{old_data_dir}/test/{im}\"):\n",
        "      os.rename(f\"{old_data_dir}/test/{im}\", f\"{dir}/{im}\")"
      ]
    },
    {
      "cell_type": "code",
      "execution_count": 6,
      "metadata": {
        "id": "8_JvD1FrHV3g"
      },
      "outputs": [],
      "source": [
        "input_size = 3, 128, 128\n",
        "img_size = 128\n",
        "num_classes = 2\n",
        "batch_size = 32\n",
        "\n",
        "interpolation = 'bicubic'\n",
        "IMAGENET_DEFAULT_MEAN  = (0.485, 0.456, 0.406)\n",
        "IMAGENET_DEFAULT_STD = (0.229, 0.224, 0.225)\n",
        "DEFAULT_CROP_PCT = 0.9"
      ]
    },
    {
      "cell_type": "markdown",
      "metadata": {
        "id": "9YlteXudjm96"
      },
      "source": [
        "## Create Dataset and Dataloader"
      ]
    },
    {
      "cell_type": "code",
      "execution_count": null,
      "metadata": {
        "id": "3A4cQ5vTOq6X"
      },
      "outputs": [],
      "source": [
        "data_dir = \"/content/gdrive/MyDrive/Kaggle/CoronaHack/data1\"\n",
        "from timm.data import create_dataset, create_loader\n",
        "# create the train and eval datasets\n",
        "train_dataset = create_dataset(name='', root=data_dir, split='train', is_training=True,\n",
        "        batch_size=batch_size)\n",
        "val_dataset = create_dataset(name='', root=data_dir, split='validation', \n",
        "                              is_training=False, batch_size=batch_size)\n",
        "train_len, val_len = len(train_dataset), len(val_dataset)\n",
        "\n",
        "# create data loaders \n",
        "loader_train = create_loader(\n",
        "        train_dataset,\n",
        "        input_size=input_size,\n",
        "        batch_size=batch_size,\n",
        "        is_training=True,\n",
        "        scale=[0.08, 1.0],\n",
        "        ratio=[3./4., 4./3.],\n",
        "        interpolation=interpolation,\n",
        "        mean=IMAGENET_DEFAULT_MEAN,\n",
        "        std=IMAGENET_DEFAULT_STD,\n",
        "        num_workers=2)\n",
        "\n",
        "loader_val = create_loader(\n",
        "        val_dataset,\n",
        "        input_size=input_size,\n",
        "        batch_size=batch_size,\n",
        "        is_training=False,\n",
        "        interpolation=interpolation,\n",
        "        mean=IMAGENET_DEFAULT_MEAN,\n",
        "        std=IMAGENET_DEFAULT_STD,\n",
        "        crop_pct=DEFAULT_CROP_PCT)"
      ]
    },
    {
      "cell_type": "code",
      "execution_count": null,
      "metadata": {
        "id": "L56TnVR3uGwH"
      },
      "outputs": [],
      "source": [
        "def imshow(inp, title=None):\n",
        "    \"\"\"Imshow for Tensor.\"\"\"\n",
        "    inp = inp.numpy().transpose((1, 2, 0))\n",
        "    inp = np.clip(inp, 0, 1)\n",
        "    plt.imshow(inp)\n",
        "    if title is not None:\n",
        "        plt.title(title)\n",
        "    plt.pause(0.001)  # pause a bit so that plots are updated\n",
        "\n",
        "\n",
        "inputs, classes = next(iter(loader_train))\n",
        "\n",
        "out = tv.utils.make_grid(inputs)\n",
        "\n",
        "imshow(out)"
      ]
    },
    {
      "cell_type": "markdown",
      "metadata": {
        "id": "pUJomhBhrzgC"
      },
      "source": [
        "\n",
        "## Fine-Tuning"
      ]
    },
    {
      "cell_type": "code",
      "execution_count": 13,
      "metadata": {
        "id": "2qO40H7cv99I"
      },
      "outputs": [],
      "source": [
        "def eval_corona(model, loader_val):\n",
        "  model.eval()\n",
        "\n",
        "  preds = []\n",
        "  with torch.no_grad():\n",
        "    for x, t in loader_val:\n",
        "      x, t = x.to(device), t.to(device) # comment this line if use option1 dataloader\n",
        "      logits = model(x)\n",
        "      preds.append(torch.sum(torch.max(logits, dim=1)[1] == t))\n",
        "\n",
        "  return sum(preds) / val_len"
      ]
    },
    {
      "cell_type": "code",
      "execution_count": null,
      "metadata": {
        "id": "Up0_Py28Gd3x"
      },
      "outputs": [],
      "source": [
        "# ViT-B/16\n",
        "# model = timm.create_model('vit_base_patch16_224_in21k', pretrained=True, num_classes=num_classes, img_size=img_size)\n",
        "# R50+ViT-B/16\n",
        "model = timm.create_model('vit_base_resnet50_224_in21k', pretrained=True, num_classes=num_classes, img_size=img_size)\n",
        "model.to(device)"
      ]
    },
    {
      "cell_type": "markdown",
      "metadata": {
        "id": "5ggnxZkqhbdQ"
      },
      "source": [
        "#### Optimizer Config"
      ]
    },
    {
      "cell_type": "code",
      "execution_count": 15,
      "metadata": {
        "id": "yFLrCL6YxKfQ"
      },
      "outputs": [],
      "source": [
        "def add_weight_decay(model, weight_decay=1e-5, skip_list=()):\n",
        "    decay = []\n",
        "    no_decay = []\n",
        "    for name, param in model.named_parameters():\n",
        "        if not param.requires_grad:\n",
        "            continue  # frozen weights\n",
        "        if len(param.shape) == 1 or name.endswith(\".bias\") or name in skip_list:\n",
        "            no_decay.append(param)\n",
        "        else:\n",
        "            decay.append(param)\n",
        "    return [\n",
        "        {'params': no_decay, 'weight_decay': 0.},\n",
        "        {'params': decay, 'weight_decay': weight_decay}]\n",
        "\n",
        "# weight_decay\n",
        "skip = {}\n",
        "if hasattr(model, 'no_weight_decay'):\n",
        "    skip = model.no_weight_decay()\n",
        "parameters = add_weight_decay(model, 0.0001, skip)\n",
        "weight_decay = 0.\n",
        "\n",
        "optimizer = optim.SGD(parameters, momentum=0.9, nesterov=True, lr=0.01, weight_decay=weight_decay)"
      ]
    },
    {
      "cell_type": "markdown",
      "metadata": {},
      "source": [
        "#### Loss Function"
      ]
    },
    {
      "cell_type": "code",
      "execution_count": 16,
      "metadata": {
        "id": "UX_P8P22ERG2"
      },
      "outputs": [],
      "source": [
        "from timm.loss import LabelSmoothingCrossEntropy\n",
        "loss_fn = LabelSmoothingCrossEntropy(smoothing=0.1).cuda()"
      ]
    },
    {
      "cell_type": "markdown",
      "metadata": {},
      "source": [
        "#### Learning Rate Scheduler"
      ]
    },
    {
      "cell_type": "code",
      "execution_count": 17,
      "metadata": {
        "id": "OwEgcf21xLv-"
      },
      "outputs": [],
      "source": [
        "from timm.scheduler import StepLRScheduler\n",
        "num_epochs = 10\n",
        "noise_range = None\n",
        "lr_scheduler = StepLRScheduler(optimizer, decay_t=30, decay_rate=0.1,\n",
        "               warmup_lr_init=0.0001, warmup_t=3, noise_range_t=None, noise_pct=0.67,\n",
        "               noise_std=1., noise_seed=42)"
      ]
    },
    {
      "cell_type": "markdown",
      "metadata": {
        "id": "oQrUSQy2hzxC"
      },
      "source": [
        "## Train Vision Transformer and Evaluate on Validation Dataset"
      ]
    },
    {
      "cell_type": "code",
      "execution_count": null,
      "metadata": {
        "colab": {
          "base_uri": "https://localhost:8080/",
          "height": 204
        },
        "id": "kZ55eq9SD4As",
        "outputId": "a2acca7f-9978-4913-aae5-589bcf0c4be1"
      },
      "outputs": [
        {
          "data": {
            "text/html": [
              "\n",
              "        <progress\n",
              "            value='9'\n",
              "            max='10',\n",
              "            style='width: 100%'\n",
              "        >\n",
              "            9\n",
              "        </progress>\n",
              "    "
            ],
            "text/plain": [
              "<IPython.core.display.HTML object>"
            ]
          },
          "metadata": {
            "tags": []
          },
          "output_type": "display_data"
        },
        {
          "name": "stdout",
          "output_type": "stream",
          "text": [
            "[Step 1] loss=4.50e+01 train accu=63.84% validation accu=75.69% \n",
            "[Step 2] loss=2.89e+01 train accu=86.96% validation accu=88.91% \n",
            "[Step 3] loss=2.76e+01 train accu=86.91% validation accu=85.29% \n",
            "[Step 4] loss=2.65e+01 train accu=88.60% validation accu=90.19% \n",
            "[Step 5] loss=2.49e+01 train accu=90.61% validation accu=90.19% \n",
            "[Step 6] loss=2.47e+01 train accu=89.83% validation accu=89.98% \n",
            "[Step 7] loss=2.36e+01 train accu=91.24% validation accu=91.68% \n",
            "[Step 8] loss=2.29e+01 train accu=92.16% validation accu=90.83% \n",
            "[Step 9] loss=2.32e+01 train accu=91.70% validation accu=90.62% \n",
            "[Step 10] loss=2.20e+01 train accu=92.75% validation accu=87.21% \n"
          ]
        }
      ],
      "source": [
        "iters = 10\n",
        "\n",
        "pb_train = display(progress(0, iters), display_id=True)\n",
        "losses = [[]]\n",
        "accus_train = [[]]\n",
        "accus_val = []\n",
        "\n",
        "for i in range(iters):\n",
        "  for x, t in loader_train:\n",
        "    logits = model(x)\n",
        "    loss = loss_fn(logits, t)\n",
        "    loss.backward()\n",
        "    optimizer.step()\n",
        "    optimizer.zero_grad()\n",
        "    losses[-1].append(loss.item())\n",
        "\n",
        "    with torch.no_grad():\n",
        "      accus_train[-1].append(torch.sum(torch.max(logits, dim=1)[1] == t))\n",
        "    # break\n",
        "\n",
        "  losses[-1] = sum(losses[-1])\n",
        "  losses.append([])\n",
        "  accus_train[-1] = sum(accus_train[-1]) / train_len\n",
        "  accus_train.append([])\n",
        "\n",
        "  # step LR for next epoch\n",
        "  lr_scheduler.step(i + 1)\n",
        "\n",
        "  accus_val.append(eval_corona(model, loader_val))\n",
        "  model.train()\n",
        "\n",
        "  pb_train.update(progress(i, iters))\n",
        "  print(f'\\r[Step {i+1}] loss={loss:.2e} '\n",
        "        f'\\r[Step {i+1}] loss={losses[-2]:.2e} '\n",
        "        f'train accu={accus_train[-2]:.2%} '\n",
        "        f'validation accu={accus_val[-1]:.2%} '\n",
        "        # , end=''\n",
        "        , flush=True)\n",
        "  # break"
      ]
    },
    {
      "cell_type": "code",
      "execution_count": null,
      "metadata": {
        "colab": {
          "base_uri": "https://localhost:8080/",
          "height": 281
        },
        "id": "MJAb50DBIv8T",
        "outputId": "9bc92f7e-a8c4-47e2-bd85-08e8a8578d0d"
      },
      "outputs": [
        {
          "data": {
            "image/png": "[encoded data removed]",
            "text/plain": [
              "<Figure size 1080x288 with 3 Axes>"
            ]
          },
          "metadata": {
            "needs_background": "light",
            "tags": []
          },
          "output_type": "display_data"
        }
      ],
      "source": [
        "fig, (ax1, ax2, ax3) = plt.subplots(1, 3, figsize=(15, 4))\n",
        "ax1.plot(losses[:-1])\n",
        "ax1.set_yscale('log')\n",
        "ax1.set_title('loss')\n",
        "ax2.plot(accus_train[:-1])\n",
        "ax2.set_title('training accuracy')\n",
        "ax3.plot(accus_val)\n",
        "ax3.set_title('validation accuracy');"
      ]
    },
    {
      "cell_type": "markdown",
      "metadata": {},
      "source": [
        "### Test Accuracy"
      ]
    },
    {
      "cell_type": "code",
      "execution_count": 18,
      "metadata": {
        "colab": {
          "base_uri": "https://localhost:8080/"
        },
        "id": "WZacbN7Hgvjj",
        "outputId": "0df901a8-48f5-4e1f-b1a7-a53bb28a7912"
      },
      "outputs": [
        {
          "name": "stdout",
          "output_type": "stream",
          "text": [
            "tensor(0.8785, device='cuda:0')\n"
          ]
        }
      ],
      "source": [
        "data_dir = \"/content/gdrive/MyDrive/Kaggle/CoronaHack/data1\"\n",
        "data_transforms = transforms.Compose([\n",
        "        transforms.Resize(150),\n",
        "        transforms.CenterCrop(img_size),\n",
        "        transforms.ToTensor(),\n",
        "    ])\n",
        "\n",
        "image_datasets = datasets.ImageFolder(data_dir, data_transforms)\n",
        "dataset_sizes = len(image_datasets)\n",
        "class_names = image_datasets.classes\n",
        "\n",
        "val_size = int(dataset_sizes*0.15)\n",
        "train_dataset, val_dataset, test_dataset = torch.utils.data.random_split(image_datasets, [dataset_sizes-2*val_size, val_size, val_size], generator=torch.Generator().manual_seed(42))\n",
        "\n",
        "model.eval()\n",
        "\n",
        "loader_test = torch.utils.data.DataLoader(test_dataset, batch_size=batch_size, \n",
        "                                          shuffle=False)\n",
        "preds = []\n",
        "with torch.no_grad():\n",
        "  for x, t in loader_test:\n",
        "    x, t = x.to(device), t.to(device) \n",
        "    logits = model(x)\n",
        "    preds.append(torch.sum(torch.max(logits, dim=1)[1] == t))\n",
        "\n",
        "accus_test = sum(preds) / len(test_dataset)\n",
        "print(accus_test)"
      ]
    }
  ],
  "metadata": {
    "accelerator": "GPU",
    "colab": {
      "collapsed_sections": [
        "AqSHbo8aMZ05",
        "9YlteXudjm96"
      ],
      "name": "csc413-vit.ipynb",
      "provenance": [],
      "toc_visible": true
    },
    "kernelspec": {
      "display_name": "Python 3",
      "name": "python3"
    },
    "language_info": {
      "name": "python"
    }
  },
  "nbformat": 4,
  "nbformat_minor": 0
}
