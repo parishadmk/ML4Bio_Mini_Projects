{
  "cells": [
    {
      "cell_type": "markdown",
      "metadata": {
        "id": "Q_V15pMucuYG"
      },
      "source": [
        "<img src='http://www-scf.usc.edu/~ghasemig/images/sharif.png' alt=\"SUT logo\" width=200 height=200 align=left class=\"saturate\" >\n",
        "\n",
        "<br>\n",
        "<font face=\"Times New Roman\">\n",
        "<div dir=ltr align=center>\n",
        "<font color=0F5298 size=7>\n",
        "    ML for Bioinformatics <br>\n",
        "<font color=2565AE size=5>\n",
        "    Computer Engineering Department <br>\n",
        "<font color=3C99D size=5>\n",
        "    Homework 3: Practical - Multi-Layer Perceptron (MLP) <br>\n",
        "<font color=696880 size=4>\n",
        "    Sobhan Moghimi (sobhanmoghimi45@gmail.com) <br>\n",
        "    Fakhredin Abdi (fakhredinabdi80@gmail.com) <br>\n",
        "    \n",
        "____\n"
      ]
    },
    {
      "cell_type": "markdown",
      "metadata": {
        "id": "uHa-LMgfcuYL"
      },
      "source": [
        "### Full Name : Parishad Mokhber \n",
        "### Student Number : 98100537\n",
        "__"
      ]
    },
    {
      "cell_type": "markdown",
      "metadata": {
        "id": "Hnkccv8vVT-o"
      },
      "source": [
        "# Description"
      ]
    },
    {
      "cell_type": "markdown",
      "metadata": {
        "id": "A9Itv81cfTG4"
      },
      "source": [
        "**In this assignment you'll be working with Dorothea Dataset.**\n",
        "\n",
        "DOROTHEA is a drug discovery dataset. Chemical compounds represented by structural molecular features must be classified as active (binding to thrombin) or inactive.\n",
        "To find out more about dataset, refer to this link: https://archive.ics.uci.edu/ml/datasets/Dorothea\n",
        "\n",
        "You should implement a classifier with Neural Networks and for this purpose we will be using PyTorch as framework."
      ]
    },
    {
      "cell_type": "markdown",
      "metadata": {
        "id": "zqSzHiJuUh7V"
      },
      "source": [
        "# Importing libraries, modules and Dataset."
      ]
    },
    {
      "cell_type": "code",
      "execution_count": 1,
      "metadata": {
        "colab": {
          "base_uri": "https://localhost:8080/"
        },
        "id": "y1DCAfkRcuYO",
        "outputId": "fe716bce-8c9d-4760-b83a-6cac78a3819d"
      },
      "outputs": [
        {
          "output_type": "stream",
          "name": "stdout",
          "text": [
            "Looking in indexes: https://pypi.org/simple, https://us-python.pkg.dev/colab-wheels/public/simple/\n",
            "Requirement already satisfied: torch in /usr/local/lib/python3.10/dist-packages (2.0.1+cu118)\n",
            "Requirement already satisfied: filelock in /usr/local/lib/python3.10/dist-packages (from torch) (3.12.0)\n",
            "Requirement already satisfied: typing-extensions in /usr/local/lib/python3.10/dist-packages (from torch) (4.5.0)\n",
            "Requirement already satisfied: sympy in /usr/local/lib/python3.10/dist-packages (from torch) (1.11.1)\n",
            "Requirement already satisfied: networkx in /usr/local/lib/python3.10/dist-packages (from torch) (3.1)\n",
            "Requirement already satisfied: jinja2 in /usr/local/lib/python3.10/dist-packages (from torch) (3.1.2)\n",
            "Requirement already satisfied: triton==2.0.0 in /usr/local/lib/python3.10/dist-packages (from torch) (2.0.0)\n",
            "Requirement already satisfied: cmake in /usr/local/lib/python3.10/dist-packages (from triton==2.0.0->torch) (3.25.2)\n",
            "Requirement already satisfied: lit in /usr/local/lib/python3.10/dist-packages (from triton==2.0.0->torch) (16.0.5)\n",
            "Requirement already satisfied: MarkupSafe>=2.0 in /usr/local/lib/python3.10/dist-packages (from jinja2->torch) (2.1.2)\n",
            "Requirement already satisfied: mpmath>=0.19 in /usr/local/lib/python3.10/dist-packages (from sympy->torch) (1.3.0)\n"
          ]
        }
      ],
      "source": [
        "pip install torch"
      ]
    },
    {
      "cell_type": "markdown",
      "metadata": {
        "id": "TlMDVS1gV08L"
      },
      "source": [
        "In this part, import all the libraries and modules needed to solve the problem."
      ]
    },
    {
      "cell_type": "code",
      "execution_count": 2,
      "metadata": {
        "id": "WgjSY5BaViF2"
      },
      "outputs": [],
      "source": [
        "import matplotlib.pyplot as plt\n",
        "import pandas as pd\n",
        "import torch\n",
        "%matplotlib inline\n",
        "import os\n",
        "import random \n",
        "import torch \n",
        "import torch.nn as nn\n",
        "import numpy as np\n",
        "import time\n",
        "from torch.utils.data import DataLoader, TensorDataset\n",
        "import torch.nn.functional as F\n",
        "import sklearn"
      ]
    },
    {
      "cell_type": "markdown",
      "metadata": {
        "id": "RSBb23wYV2Ho"
      },
      "source": [
        "Now import the train and test data from dataset."
      ]
    },
    {
      "cell_type": "code",
      "execution_count": 3,
      "metadata": {
        "id": "jNaH5szYV9Y4",
        "colab": {
          "base_uri": "https://localhost:8080/"
        },
        "outputId": "b30ca33a-e98c-4801-87e5-22345273a063"
      },
      "outputs": [
        {
          "output_type": "stream",
          "name": "stdout",
          "text": [
            "(800, 100000)\n",
            "(800,)\n",
            "(350, 100000)\n",
            "(350,)\n"
          ]
        }
      ],
      "source": [
        "# Your code here\n",
        "def read_sparse(file_path , rows, cols):\n",
        "  matrix =np.zeros((rows, cols), dtype = int)\n",
        "  with open (file_path , 'r') as file:\n",
        "    for row_idx, line in enumerate(file):\n",
        "      column_indices = map(int, line.split())\n",
        "      matrix[row_idx , np.array(list(column_indices))-1] = 1\n",
        "      return matrix\n",
        "\n",
        "\n",
        "n_features = 100000\n",
        "train_count, test_count = 800, 350\n",
        "\n",
        "train_data = read_sparse('dorothea_train.data', train_count, n_features)\n",
        "train_labels = np.genfromtxt('dorothea_train.labels')\n",
        "test_data = read_sparse('dorothea_valid.data', test_count, n_features)\n",
        "test_labels = np.genfromtxt('dorothea_valid.labels')\n",
        "\n",
        "print(train_data.shape)\n",
        "print(train_labels.shape)\n",
        "\n",
        "print(test_data.shape)\n",
        "print(test_labels.shape)"
      ]
    },
    {
      "cell_type": "markdown",
      "metadata": {
        "id": "RgEJNhp_UiEa"
      },
      "source": [
        "## Normalize\n",
        "You can normalize your data using <code>Scikit-Learn</code> modules here."
      ]
    },
    {
      "cell_type": "code",
      "execution_count": 4,
      "metadata": {
        "id": "HPcemuTvcuYQ"
      },
      "outputs": [],
      "source": [
        "# Apply normalization here\n",
        "from sklearn import preprocessing\n",
        "\n",
        "scaler = preprocessing.StandardScaler().fit(train_data)\n",
        "train_data_scaled = scaler.transform(train_data)\n",
        "test_data_scaled = scaler.transform(test_data)"
      ]
    },
    {
      "cell_type": "markdown",
      "metadata": {
        "id": "pQVOozI3Gjdv"
      },
      "source": [
        "## Dimensionality Reduction\n",
        "There are too many attributes for each instance of dataset. We will suffer from sparse data and long training phase. Thus you can reduce dimensions to get better accuracy. \n",
        "\n",
        "Principal component analysis (PCA) is the process of computing the principal components and using them to perform a change of basis on the data.\n",
        "\n",
        "Apply PCA on Dorothea dataSet using <code>Scikit-Learn</code>."
      ]
    },
    {
      "cell_type": "code",
      "execution_count": 5,
      "metadata": {
        "id": "wrdakV-5ZsRP"
      },
      "outputs": [],
      "source": [
        "# Apply PCA here\n",
        "from sklearn.decomposition import SparsePCA\n",
        "pca = SparsePCA(n_components = 50).fit(train_data_scaled)\n",
        "train_data_scaled_pca = pca.transform(train_data_scaled)\n",
        "test_data_scaled_pca = pca.transform(test_data_scaled)"
      ]
    },
    {
      "cell_type": "markdown",
      "metadata": {
        "id": "jFTEH0H23BtL"
      },
      "source": [
        "# Define Model\n",
        "\n"
      ]
    },
    {
      "cell_type": "code",
      "execution_count": 6,
      "metadata": {
        "id": "1z8_ahC_3S5f"
      },
      "outputs": [],
      "source": [
        "# Define your model in here\n",
        "# You can change the code below.\n",
        "\n",
        "class ClassifierModel(nn.Module):\n",
        "    def __init__(self):\n",
        "      super(ClassifierModel, self).__init__()\n",
        "      #self.layer1 = nn.Linear(in_features= 500, out_features= 100, bias = True)\n",
        "      self.layer2 = nn.Linear(in_features= 50, out_features= 100, bias = True)\n",
        "      self.layer3 = nn.Linear(in_features= 100, out_features=1, bias = True)\n",
        "      self.activation = nn.ReLU()\n",
        "      self.sigmoid = nn.Sigmoid()\n",
        "\n",
        "\n",
        "    def forward(self, x_input):\n",
        "      # x_input = self.layer1(x_input)\n",
        "      # x_input = self.activation(x_input)\n",
        "      x_input = self.layer2(x_input)\n",
        "      x_input = self.activation(x_input)\n",
        "      x_out = self.layer3(x_input)\n",
        "      x_out = self.sigmoid(x_out)\n",
        "\n",
        "      return x_out"
      ]
    },
    {
      "cell_type": "markdown",
      "metadata": {
        "id": "IGUFUbsw3n9A"
      },
      "source": [
        "# Train the model"
      ]
    },
    {
      "cell_type": "markdown",
      "metadata": {
        "id": "YDrS8le13n25"
      },
      "source": [
        "**Initialize model, define hyperparameters, optimizer, loss function, etc.**"
      ]
    },
    {
      "cell_type": "code",
      "execution_count": 7,
      "metadata": {
        "id": "YV0FgUYc4J-Y"
      },
      "outputs": [],
      "source": [
        "# Implement Train in here\n",
        "BATCH_SIZE = 32\n",
        "NUM_EPOCHS = 100\n",
        "\n",
        "DEVICE = torch.device('cuda:0' if torch.cuda.is_available() else 'cpu')\n",
        "criterion = nn.BCELoss()\n",
        "model = ClassifierModel().to(DEVICE)\n",
        "optimizer = torch.optim.Adam(model.parameters(), lr = 0.005)"
      ]
    },
    {
      "cell_type": "code",
      "source": [
        "train_data_scaled_pca = torch.from_numpy(train_data_scaled_pca)\n",
        "train_labels = torch.from_numpy(train_labels)\n",
        "train_labels[train_labels == -1] = 0\n",
        "\n",
        "dataset = TensorDataset(train_data_scaled_pca.float(), train_labels.float().unsqueeze(1))\n",
        "train_loader = DataLoader(dataset, batch_size = BATCH_SIZE, shuffle=True)"
      ],
      "metadata": {
        "id": "1nJTWyCEaCwE"
      },
      "execution_count": 8,
      "outputs": []
    },
    {
      "cell_type": "code",
      "source": [
        "loss_list = []\n",
        "for epoch in range(NUM_EPOCHS):\n",
        "    model.train()\n",
        "    loss_epoch = 0.0\n",
        "    \n",
        "    for i, (X, y) in enumerate(train_loader):\n",
        "        X = X.to(DEVICE)\n",
        "        y = y.to(DEVICE)\n",
        "        outputs = model(X)\n",
        "        loss = criterion(outputs, y)\n",
        "\n",
        "        optimizer.zero_grad()\n",
        "        loss.backward()\n",
        "        optimizer.step()\n",
        "        loss_epoch += loss.item()\n",
        "    \n",
        "    loss_epoch = loss_epoch/len(train_loader)\n",
        "    print ('Epoch [{}/{}], Loss: {}'.format(epoch+1, NUM_EPOCHS, loss_epoch))\n",
        "    loss_list.append(loss_epoch)"
      ],
      "metadata": {
        "id": "jvT2GiIEbjRu",
        "colab": {
          "base_uri": "https://localhost:8080/"
        },
        "outputId": "cb07199f-e82e-48b7-a899-0874fc39a487"
      },
      "execution_count": 9,
      "outputs": [
        {
          "output_type": "stream",
          "name": "stdout",
          "text": [
            "Epoch [1/100], Loss: 0.522056792974472\n",
            "Epoch [2/100], Loss: 0.3286279860138893\n",
            "Epoch [3/100], Loss: 0.3235706838965416\n",
            "Epoch [4/100], Loss: 0.31988894045352934\n",
            "Epoch [5/100], Loss: 0.32011433839797976\n",
            "Epoch [6/100], Loss: 0.3204987373948097\n",
            "Epoch [7/100], Loss: 0.32139421939849855\n",
            "Epoch [8/100], Loss: 0.3213486671447754\n",
            "Epoch [9/100], Loss: 0.32063947767019274\n",
            "Epoch [10/100], Loss: 0.3197784012556076\n",
            "Epoch [11/100], Loss: 0.31988743305206296\n",
            "Epoch [12/100], Loss: 0.32016008496284487\n",
            "Epoch [13/100], Loss: 0.3212187710404396\n",
            "Epoch [14/100], Loss: 0.32103443145751953\n",
            "Epoch [15/100], Loss: 0.3202620595693588\n",
            "Epoch [16/100], Loss: 0.3207948386669159\n",
            "Epoch [17/100], Loss: 0.3203903797268868\n",
            "Epoch [18/100], Loss: 0.32032157957553864\n",
            "Epoch [19/100], Loss: 0.3204386070370674\n",
            "Epoch [20/100], Loss: 0.3205381569266319\n",
            "Epoch [21/100], Loss: 0.3198648577928543\n",
            "Epoch [22/100], Loss: 0.322838628590107\n",
            "Epoch [23/100], Loss: 0.32072913646698\n",
            "Epoch [24/100], Loss: 0.3211832019686699\n",
            "Epoch [25/100], Loss: 0.3199550896883011\n",
            "Epoch [26/100], Loss: 0.3201227366924286\n",
            "Epoch [27/100], Loss: 0.31981060683727264\n",
            "Epoch [28/100], Loss: 0.32006054431200026\n",
            "Epoch [29/100], Loss: 0.3215043556690216\n",
            "Epoch [30/100], Loss: 0.32150292575359346\n",
            "Epoch [31/100], Loss: 0.320658021569252\n",
            "Epoch [32/100], Loss: 0.3202489697933197\n",
            "Epoch [33/100], Loss: 0.3214616265892982\n",
            "Epoch [34/100], Loss: 0.3211824694275856\n",
            "Epoch [35/100], Loss: 0.3204690098762512\n",
            "Epoch [36/100], Loss: 0.32217352122068404\n",
            "Epoch [37/100], Loss: 0.32316392242908476\n",
            "Epoch [38/100], Loss: 0.32181306898593903\n",
            "Epoch [39/100], Loss: 0.3209292244911194\n",
            "Epoch [40/100], Loss: 0.32186796605587004\n",
            "Epoch [41/100], Loss: 0.3218179434537888\n",
            "Epoch [42/100], Loss: 0.3218610394001007\n",
            "Epoch [43/100], Loss: 0.32229111552238465\n",
            "Epoch [44/100], Loss: 0.32097104012966154\n",
            "Epoch [45/100], Loss: 0.32220516085624695\n",
            "Epoch [46/100], Loss: 0.32095051735639574\n",
            "Epoch [47/100], Loss: 0.3221418458223343\n",
            "Epoch [48/100], Loss: 0.32115563601255415\n",
            "Epoch [49/100], Loss: 0.3204047432541847\n",
            "Epoch [50/100], Loss: 0.32033963143825533\n",
            "Epoch [51/100], Loss: 0.32017537117004397\n",
            "Epoch [52/100], Loss: 0.3207135248184204\n",
            "Epoch [53/100], Loss: 0.3200254040956497\n",
            "Epoch [54/100], Loss: 0.3217033609747887\n",
            "Epoch [55/100], Loss: 0.32062333792448044\n",
            "Epoch [56/100], Loss: 0.3204127874970436\n",
            "Epoch [57/100], Loss: 0.3215956211090088\n",
            "Epoch [58/100], Loss: 0.3206583407521248\n",
            "Epoch [59/100], Loss: 0.320486421585083\n",
            "Epoch [60/100], Loss: 0.32035983562469483\n",
            "Epoch [61/100], Loss: 0.3196916317939758\n",
            "Epoch [62/100], Loss: 0.32153321415185926\n",
            "Epoch [63/100], Loss: 0.32223351001739503\n",
            "Epoch [64/100], Loss: 0.32037335097789765\n",
            "Epoch [65/100], Loss: 0.32036527842283247\n",
            "Epoch [66/100], Loss: 0.3204464587569237\n",
            "Epoch [67/100], Loss: 0.3204321309924126\n",
            "Epoch [68/100], Loss: 0.32323126554489134\n",
            "Epoch [69/100], Loss: 0.32156325548887255\n",
            "Epoch [70/100], Loss: 0.319985403418541\n",
            "Epoch [71/100], Loss: 0.3204357647895813\n",
            "Epoch [72/100], Loss: 0.3202196002006531\n",
            "Epoch [73/100], Loss: 0.31977547526359557\n",
            "Epoch [74/100], Loss: 0.32146676898002624\n",
            "Epoch [75/100], Loss: 0.32157864153385163\n",
            "Epoch [76/100], Loss: 0.32101287961006164\n",
            "Epoch [77/100], Loss: 0.32172890156507494\n",
            "Epoch [78/100], Loss: 0.3209394603967667\n",
            "Epoch [79/100], Loss: 0.32240754932165144\n",
            "Epoch [80/100], Loss: 0.32078112304210665\n",
            "Epoch [81/100], Loss: 0.3211171406507492\n",
            "Epoch [82/100], Loss: 0.3220369380712509\n",
            "Epoch [83/100], Loss: 0.3201200929284096\n",
            "Epoch [84/100], Loss: 0.32082618653774264\n",
            "Epoch [85/100], Loss: 0.3204558736085892\n",
            "Epoch [86/100], Loss: 0.323847744166851\n",
            "Epoch [87/100], Loss: 0.3204531186819077\n",
            "Epoch [88/100], Loss: 0.32154588401317596\n",
            "Epoch [89/100], Loss: 0.3215918266773224\n",
            "Epoch [90/100], Loss: 0.3208529680967331\n",
            "Epoch [91/100], Loss: 0.32068251878023146\n",
            "Epoch [92/100], Loss: 0.32027597188949586\n",
            "Epoch [93/100], Loss: 0.3213435587286949\n",
            "Epoch [94/100], Loss: 0.32085723608732225\n",
            "Epoch [95/100], Loss: 0.3203119546175003\n",
            "Epoch [96/100], Loss: 0.32032739102840424\n",
            "Epoch [97/100], Loss: 0.31981962561607363\n",
            "Epoch [98/100], Loss: 0.32073545694351197\n",
            "Epoch [99/100], Loss: 0.32122333854436874\n",
            "Epoch [100/100], Loss: 0.32051154315471647\n"
          ]
        }
      ]
    },
    {
      "cell_type": "markdown",
      "metadata": {
        "id": "L2Fnamnk4LTV"
      },
      "source": [
        "**After the training process, plot metrics such as loss function values.**"
      ]
    },
    {
      "cell_type": "code",
      "execution_count": 10,
      "metadata": {
        "id": "3br2A_3x7tLY",
        "colab": {
          "base_uri": "https://localhost:8080/",
          "height": 448
        },
        "outputId": "67dcc6b2-c033-4664-cee7-886ea94898e3"
      },
      "outputs": [
        {
          "output_type": "display_data",
          "data": {
            "text/plain": [
              "<Figure size 640x480 with 1 Axes>"
            ],
            "image/png": "[encoded data removed]"
          },
          "metadata": {}
        }
      ],
      "source": [
        "# Plot in here\n",
        "plt.plot(loss_list)\n",
        "plt.xlabel('Num of Epoch')\n",
        "plt.ylabel('Training Loss');"
      ]
    },
    {
      "cell_type": "markdown",
      "metadata": {
        "id": "vbwXdL9Ph2jD"
      },
      "source": [
        "# Testing\n",
        "After training, test your model on test dataset and compute performance metrics. "
      ]
    },
    {
      "cell_type": "code",
      "execution_count": 11,
      "metadata": {
        "id": "hzuhWfc3ia5s",
        "colab": {
          "base_uri": "https://localhost:8080/"
        },
        "outputId": "0e317d2e-43c4-4e57-f061-af27bc5905a4"
      },
      "outputs": [
        {
          "output_type": "stream",
          "name": "stdout",
          "text": [
            "Accuracy on the test samples: 90.28571428571429 %\n"
          ]
        }
      ],
      "source": [
        "# Implement Test in here\n",
        "test_data_scaled_pca = torch.from_numpy(test_data_scaled_pca)\n",
        "test_labels = torch.from_numpy(test_labels)\n",
        "test_labels[test_labels == -1] = 0\n",
        "\n",
        "dataset_test = TensorDataset(test_data_scaled_pca.float(), test_labels.float().unsqueeze(1))\n",
        "test_loader = DataLoader(dataset_test, batch_size = len(test_labels), shuffle=True)\n",
        "\n",
        "model.eval()\n",
        "\n",
        "with torch.no_grad():\n",
        "  correct = 0\n",
        "  total = 0\n",
        "  for i, (X, y) in enumerate(test_loader):\n",
        "        X = X.to(DEVICE)\n",
        "        y = y.to(DEVICE)\n",
        "        outputs = model(X)\n",
        "\n",
        "        y_pred = torch.round(outputs)\n",
        "\n",
        "        total += y.size(0)\n",
        "        correct += (y_pred == y).sum().item()\n",
        "\n",
        "\n",
        "print('Accuracy on the test samples: {} %'.format(100 * correct / total)) "
      ]
    },
    {
      "cell_type": "markdown",
      "metadata": {
        "id": "vqQpZsTEh2gL"
      },
      "source": [
        "Show confusion matrix of your model."
      ]
    },
    {
      "cell_type": "code",
      "execution_count": 12,
      "metadata": {
        "id": "Kl9VOLgdiFMg",
        "colab": {
          "base_uri": "https://localhost:8080/",
          "height": 448
        },
        "outputId": "de64c735-be24-4b38-de55-b274c06749fa"
      },
      "outputs": [
        {
          "output_type": "display_data",
          "data": {
            "text/plain": [
              "<Figure size 640x480 with 2 Axes>"
            ],
            "image/png": "[encoded data removed]"
          },
          "metadata": {}
        }
      ],
      "source": [
        "# Print your confusion matrix here.\n",
        "from sklearn.metrics import confusion_matrix, ConfusionMatrixDisplay\n",
        "\n",
        "cm = confusion_matrix(test_labels.cpu(), y_pred.cpu())\n",
        "disp = ConfusionMatrixDisplay(cm)\n",
        "disp.plot();"
      ]
    }
  ],
  "metadata": {
    "colab": {
      "provenance": [],
      "gpuType": "T4"
    },
    "kernelspec": {
      "display_name": "Python 3",
      "name": "python3"
    },
    "language_info": {
      "codemirror_mode": {
        "name": "ipython",
        "version": 3
      },
      "file_extension": ".py",
      "mimetype": "text/x-python",
      "name": "python",
      "nbconvert_exporter": "python",
      "pygments_lexer": "ipython3",
      "version": "3.9.12"
    },
    "accelerator": "GPU"
  },
  "nbformat": 4,
  "nbformat_minor": 0
}